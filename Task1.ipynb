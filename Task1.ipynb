{
 "cells": [
  {
   "cell_type": "markdown",
   "metadata": {},
   "source": [
    "# Using Natural Language Processing to Generate New Recipes in Python\n",
    "Welcome to this project! We will be finetuning a distilled version of GPT-2 on a smaller-scale dataset comprising recipes. The recipes are split into ingredients and instructions. Can we use GPT-2 to generate instructions from a list of ingredients?\n",
    "\n",
    "## Prerequisites\n",
    "- Intermediate-level knowledge of Python\n",
    "- Basic UNIX/Bash skills for launching scripts\n",
    "- A Google account (if you'd like to launch a finetuning instance on Google Colab)\n",
    "- Basic knowledge of neural networks and deep learning (knowledge about large-scale models like BERT and GPT-2 will be preferred, but is not necessary)\n",
    "- Some basic Natural Language Processing (NLP) experience will be beneficial\n",
    "\n",
    "## Task 1: Introduction\n",
    "[This is the dataset](https://eightportions.com/datasets/Recipes/#fn:1) we will be using. It is collated by Ryan Lee, sourced from [Food Network](https://www.foodnetwork.com/), [Epicurious](https://www.epicurious.com/), and [Allrecipes](https://www.allrecipes.com/).\n",
    "\n",
    "### Sample\n",
    "*Herb Rubbed Sirloin Tip Roast*\n",
    "\n",
    "- 1 1/4 tablespoons paprika\n",
    "- 1 tablespoon kosher salt\n",
    "- 1 teaspoon garlic powder\n",
    "- 1/2 teaspoon ground black pepper\n",
    "- 1/2 teaspoon onion powder\n",
    "- 1/2 teaspoon ground cayenne pepper\n",
    "- 1/2 teaspoon dried oregano\n",
    "- 1/2 teaspoon dried thyme\n",
    "- 2 tablespoons olive oil\n",
    "- 1 (3 pound) sirloin tip roast\n",
    "\n",
    "In a small bowl, mix the paprika, kosher salt, garlic powder, black pepper, onion powder, cayenne pepper, oregano, and thyme. Stir in the olive oil, and allow the mixture to sit about 15 minutes.\n",
    "\n",
    "Preheat oven to 350 degrees F (175 degrees C). Line a baking sheet with aluminum foil.\n",
    "\n",
    "Place the roast on the prepared baking sheet, and cover on all sides with the spice mixture.\n",
    "\n",
    "Roast 1 hour in the preheated oven, or to a minimum internal temperature of 145 degrees F (63 degrees C). Let sit 15 minutes before slicing."
   ]
  },
  {
   "cell_type": "code",
   "execution_count": 3,
   "metadata": {},
   "outputs": [
    {
     "name": "stdout",
     "output_type": "stream",
     "text": [
      "fatal: destination path 'transformers' already exists and is not an empty directory.\n",
      "Processing /home/rhyme/Desktop/Project/transformers\n",
      "Collecting numpy (from transformers==3.0.2)\n",
      "  Using cached https://files.pythonhosted.org/packages/22/e7/4b2bdddb99f5f631d8c1de259897c2b7d65dcfcc1e0a6fd17a7f62923500/numpy-1.19.1-cp36-cp36m-manylinux1_x86_64.whl\n",
      "Collecting tokenizers==0.8.1.rc2 (from transformers==3.0.2)\n",
      "  Using cached https://files.pythonhosted.org/packages/80/83/8b9fccb9e48eeb575ee19179e2bdde0ee9a1904f97de5f02d19016b8804f/tokenizers-0.8.1rc2-cp36-cp36m-manylinux1_x86_64.whl\n",
      "Collecting packaging (from transformers==3.0.2)\n",
      "  Using cached https://files.pythonhosted.org/packages/46/19/c5ab91b1b05cfe63cccd5cfc971db9214c6dd6ced54e33c30d5af1d2bc43/packaging-20.4-py2.py3-none-any.whl\n",
      "Collecting filelock (from transformers==3.0.2)\n",
      "  Using cached https://files.pythonhosted.org/packages/93/83/71a2ee6158bb9f39a90c0dea1637f81d5eef866e188e1971a1b1ab01a35a/filelock-3.0.12-py3-none-any.whl\n",
      "Collecting requests (from transformers==3.0.2)\n",
      "  Using cached https://files.pythonhosted.org/packages/45/1e/0c169c6a5381e241ba7404532c16a21d86ab872c9bed8bdcd4c423954103/requests-2.24.0-py2.py3-none-any.whl\n",
      "Collecting tqdm>=4.27 (from transformers==3.0.2)\n",
      "  Downloading https://files.pythonhosted.org/packages/28/7e/281edb5bc3274dfb894d90f4dbacfceaca381c2435ec6187a2c6f329aed7/tqdm-4.48.2-py2.py3-none-any.whl (68kB)\n",
      "\u001b[K    100% |████████████████████████████████| 71kB 7.0MB/s eta 0:00:01\n",
      "\u001b[?25hCollecting regex!=2019.12.17 (from transformers==3.0.2)\n",
      "  Using cached https://files.pythonhosted.org/packages/3e/eb/85f375a102e95cde14a184ee985a35e1a20c4ceb3fe7f57fa128a9326283/regex-2020.7.14-cp36-cp36m-manylinux1_x86_64.whl\n",
      "Collecting sentencepiece!=0.1.92 (from transformers==3.0.2)\n",
      "  Using cached https://files.pythonhosted.org/packages/d4/a4/d0a884c4300004a78cca907a6ff9a5e9fe4f090f5d95ab341c53d28cbc58/sentencepiece-0.1.91-cp36-cp36m-manylinux1_x86_64.whl\n",
      "Collecting sacremoses (from transformers==3.0.2)\n",
      "Collecting dataclasses (from transformers==3.0.2)\n",
      "  Using cached https://files.pythonhosted.org/packages/e1/d2/6f02df2616fd4016075f60157c7a0452b38d8f7938ae94343911e0fb0b09/dataclasses-0.7-py3-none-any.whl\n",
      "Collecting pyparsing>=2.0.2 (from packaging->transformers==3.0.2)\n",
      "  Using cached https://files.pythonhosted.org/packages/8a/bb/488841f56197b13700afd5658fc279a2025a39e22449b7cf29864669b15d/pyparsing-2.4.7-py2.py3-none-any.whl\n",
      "Collecting six (from packaging->transformers==3.0.2)\n",
      "  Using cached https://files.pythonhosted.org/packages/ee/ff/48bde5c0f013094d729fe4b0316ba2a24774b3ff1c52d924a8a4cb04078a/six-1.15.0-py2.py3-none-any.whl\n",
      "Collecting certifi>=2017.4.17 (from requests->transformers==3.0.2)\n",
      "  Using cached https://files.pythonhosted.org/packages/5e/c4/6c4fe722df5343c33226f0b4e0bb042e4dc13483228b4718baf286f86d87/certifi-2020.6.20-py2.py3-none-any.whl\n",
      "Collecting idna<3,>=2.5 (from requests->transformers==3.0.2)\n",
      "  Using cached https://files.pythonhosted.org/packages/a2/38/928ddce2273eaa564f6f50de919327bf3a00f091b5baba8dfa9460f3a8a8/idna-2.10-py2.py3-none-any.whl\n",
      "Collecting chardet<4,>=3.0.2 (from requests->transformers==3.0.2)\n",
      "  Using cached https://files.pythonhosted.org/packages/bc/a9/01ffebfb562e4274b6487b4bb1ddec7ca55ec7510b22e4c51f14098443b8/chardet-3.0.4-py2.py3-none-any.whl\n",
      "Collecting urllib3!=1.25.0,!=1.25.1,<1.26,>=1.21.1 (from requests->transformers==3.0.2)\n",
      "  Using cached https://files.pythonhosted.org/packages/9f/f0/a391d1463ebb1b233795cabfc0ef38d3db4442339de68f847026199e69d7/urllib3-1.25.10-py2.py3-none-any.whl\n",
      "Collecting click (from sacremoses->transformers==3.0.2)\n",
      "  Using cached https://files.pythonhosted.org/packages/d2/3d/fa76db83bf75c4f8d338c2fd15c8d33fdd7ad23a9b5e57eb6c5de26b430e/click-7.1.2-py2.py3-none-any.whl\n",
      "Collecting joblib (from sacremoses->transformers==3.0.2)\n",
      "  Using cached https://files.pythonhosted.org/packages/51/dd/0e015051b4a27ec5a58b02ab774059f3289a94b0906f880a3f9507e74f38/joblib-0.16.0-py3-none-any.whl\n",
      "Installing collected packages: numpy, tokenizers, pyparsing, six, packaging, filelock, certifi, idna, chardet, urllib3, requests, tqdm, regex, sentencepiece, click, joblib, sacremoses, dataclasses, transformers\n",
      "  Running setup.py install for transformers ... \u001b[?25ldone\n",
      "\u001b[?25hSuccessfully installed certifi-2020.6.20 chardet-3.0.4 click-7.1.2 dataclasses-0.7 filelock-3.0.12 idna-2.10 joblib-0.16.0 numpy-1.19.1 packaging-20.4 pyparsing-2.4.7 regex-2020.7.14 requests-2.24.0 sacremoses-0.0.43 sentencepiece-0.1.91 six-1.15.0 tokenizers-0.8.1rc2 tqdm-4.48.2 transformers-3.0.2 urllib3-1.25.10\n"
     ]
    }
   ],
   "source": [
    "!git clone https://github.com/huggingface/transformers; \n",
    "!cd transformers; pip3 install ."
   ]
  },
  {
   "cell_type": "code",
   "execution_count": 7,
   "metadata": {},
   "outputs": [
    {
     "name": "stderr",
     "output_type": "stream",
     "text": [
      "Setting `pad_token_id` to 50256 (first `eos_token_id`) to generate sequence\n"
     ]
    },
    {
     "name": "stdout",
     "output_type": "stream",
     "text": [
      "------------------\n",
      "Generated Output\n",
      "------------------\n",
      "ingredients: 1 cup flour \n",
      " 1 cup sugar \n",
      " beer \n",
      " instructions: \n",
      " Preheat oven to 350 degrees F. Sift flour, sugar, and salt into large mixing bowl. Combine soda water, and soda water. Add to dry ingredients. Make sure all ingredients are well combined. Add beer and mix until dough is well combined. Turn dough out onto floured surface. Knead by hand until dough is smooth, not sticky. Cut into 12 equal pieces. Place on cookie sheet. Place under broiler until golden, about 2 to 3 minutes. Serve warm or chilled. \n"
     ]
    }
   ],
   "source": [
    "from model_demo import demo\n",
    "\n",
    "demo('ingredients: 1 cup flour \\n 1 cup sugar \\n beer \\n instructions:')"
   ]
  },
  {
   "cell_type": "code",
   "execution_count": null,
   "metadata": {},
   "outputs": [],
   "source": []
  }
 ],
 "metadata": {
  "kernelspec": {
   "display_name": "Python 3",
   "language": "python",
   "name": "python3"
  },
  "language_info": {
   "codemirror_mode": {
    "name": "ipython",
    "version": 3
   },
   "file_extension": ".py",
   "mimetype": "text/x-python",
   "name": "python",
   "nbconvert_exporter": "python",
   "pygments_lexer": "ipython3",
   "version": "3.6.9"
  }
 },
 "nbformat": 4,
 "nbformat_minor": 4
}
